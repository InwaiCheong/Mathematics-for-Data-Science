{
  "nbformat": 4,
  "nbformat_minor": 0,
  "metadata": {
    "colab": {
      "name": "Least Squares 95% Confidence Interval.ipynb",
      "provenance": []
    },
    "kernelspec": {
      "name": "python3",
      "display_name": "Python 3"
    },
    "language_info": {
      "name": "python"
    }
  },
  "cells": [
    {
      "cell_type": "code",
      "metadata": {
        "colab": {
          "base_uri": "https://localhost:8080/"
        },
        "id": "F2wBqASiICqj",
        "outputId": "176b764f-acc7-455d-d949-08cc5e3121d1"
      },
      "source": [
        "import numpy as np\n",
        "import matplotlib.pyplot as plt\n",
        "\n",
        "slope_est = [] #estimators of x0\n",
        "inter_est = [] #estimators of x1\n",
        "model_est = [] #estimators of x0 + 3x_1\n",
        "\n",
        "for i in range(1000000):\n",
        "\n",
        "  x0 = 5 #intercept\n",
        "  x1 = 5 #slope\n",
        "\n",
        "  #Generating our x's\n",
        "  x = np.linspace(1,50,50)\n",
        "  y = []\n",
        "\n",
        "  x_bar = np.mean(x)\n",
        "\n",
        "  #Sampling from y\n",
        "  for i in range(50):\n",
        "    s = np.random.normal(x0 + x1*i, 3)\n",
        "    y.append(s)\n",
        "\n",
        "  y = np.array(y)\n",
        "  y_bar = np.mean(y)\n",
        "\n",
        "\n",
        "  #Least Square Estimators\n",
        "  num = 0\n",
        "  den = 0\n",
        "\n",
        "  for i,j in zip(x,y):\n",
        "      num += (i - x_bar)*(j - y_bar)\n",
        "      den += (i - x_bar)**2\n",
        "      \n",
        "  y1 = num / den\n",
        "  y0 = y_bar - y1*x_bar \n",
        "\n",
        "  #Appending Estimators \n",
        "  slope_est.append(y1)\n",
        "  inter_est.append(y0)\n",
        "  model_est.append(y0 + 3*y1)\n",
        "\n",
        "\n",
        "print('95% CI of Slope:',np.std(slope_est) * 1.96)\n",
        "print('95% CI of Intercept:',np.std(inter_est) * 1.96)\n",
        "print('95% CI of x0 + 3x_1:',np.std(model_est) * 1.96)"
      ],
      "execution_count": 1,
      "outputs": [
        {
          "output_type": "stream",
          "name": "stdout",
          "text": [
            "95% CI of Slope: 0.057685298512345426\n",
            "95% CI of Intercept: 1.6918505767561027\n",
            "95% CI of x0 + 3x_1: 1.5435261149111077\n"
          ]
        }
      ]
    },
    {
      "cell_type": "code",
      "metadata": {
        "id": "Krq-ixKPa4cz"
      },
      "source": [
        ""
      ],
      "execution_count": 1,
      "outputs": []
    }
  ]
}