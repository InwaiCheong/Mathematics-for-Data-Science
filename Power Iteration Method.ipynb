{
  "nbformat": 4,
  "nbformat_minor": 0,
  "metadata": {
    "colab": {
      "name": "Untitled7.ipynb",
      "provenance": []
    },
    "kernelspec": {
      "name": "python3",
      "display_name": "Python 3"
    },
    "language_info": {
      "name": "python"
    }
  },
  "cells": [
    {
      "cell_type": "code",
      "metadata": {
        "id": "1s2fF0POfDrZ"
      },
      "source": [
        "import numpy as np\n",
        "\n",
        "#You can randomly initiate x, and L is the input matrix\n",
        "\n",
        "def power_iteration(L):\n",
        "\n",
        "  #Initiating x randomly with the correct dimensions\n",
        "  x = np.random.rand(L.shape[0],1)\n",
        "\n",
        "  #Initialize\n",
        "  v = x / np.max(x)\n",
        "\n",
        "  #Main Loop\n",
        "  for i in range(100):\n",
        "    v = np.matmul(L,v) / np.max(np.matmul(L,v))\n",
        "    eigenvalue = np.dot(np.matmul(L,v).transpose(),v) / np.dot(v.transpose(),v) #Using the Rayleigh Quotient \n",
        "  \n",
        "  print('The max eigenvalue is:',round(eigenvalue.item(0,0),2), \"\\n Associated Eigenvector: \\n\",v)"
      ],
      "execution_count": 3,
      "outputs": []
    },
    {
      "cell_type": "code",
      "metadata": {
        "id": "LIiBbIoe6xna",
        "colab": {
          "base_uri": "https://localhost:8080/"
        },
        "outputId": "9138664d-d9e4-4653-bc27-2002361a068a"
      },
      "source": [
        "L = np.array([[0,0,1,1/2],[1/3,0,0,0],[1/3,1/2,0,1/2],[1/3,1/2,0,0]])\n",
        "\n",
        "power_iteration(L)"
      ],
      "execution_count": 4,
      "outputs": [
        {
          "output_type": "stream",
          "name": "stdout",
          "text": [
            "The max eigenvalue is: 1.0 \n",
            " Associated Eigenvector: \n",
            " [[1.        ]\n",
            " [0.33333333]\n",
            " [0.75      ]\n",
            " [0.5       ]]\n"
          ]
        }
      ]
    },
    {
      "cell_type": "code",
      "metadata": {
        "id": "1nPvXs9z-B9p"
      },
      "source": [
        ""
      ],
      "execution_count": 2,
      "outputs": []
    }
  ]
}